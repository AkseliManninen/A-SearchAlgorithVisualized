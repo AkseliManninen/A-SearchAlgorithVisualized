{
  "cells": [
    {
      "cell_type": "markdown",
      "metadata": {
        "id": "PyNS0Ha5jAxr"
      },
      "source": [
        "# Deterministic Baseline Neural Network"
      ]
    },
    {
      "cell_type": "markdown",
      "metadata": {
        "id": "526gWdXcm6mB"
      },
      "source": [
        "# Importing and installing libraries"
      ]
    },
    {
      "cell_type": "code",
      "execution_count": 1,
      "metadata": {
        "colab": {
          "base_uri": "https://localhost:8080/"
        },
        "id": "ov7-YUV7m4cT",
        "outputId": "dc9e574c-c6d0-40e5-e9a7-846cdca14e23"
      },
      "outputs": [
        {
          "output_type": "stream",
          "name": "stdout",
          "text": [
            "Collecting einops\n",
            "  Downloading einops-0.7.0-py3-none-any.whl (44 kB)\n",
            "\u001b[2K     \u001b[90m━━━━━━━━━━━━━━━━━━━━━━━━━━━━━━━━━━━━━━━━\u001b[0m \u001b[32m44.6/44.6 kB\u001b[0m \u001b[31m561.8 kB/s\u001b[0m eta \u001b[36m0:00:00\u001b[0m\n",
            "\u001b[?25hInstalling collected packages: einops\n",
            "Successfully installed einops-0.7.0\n",
            "Collecting tensorboardX\n",
            "  Downloading tensorboardX-2.6.2.2-py2.py3-none-any.whl (101 kB)\n",
            "\u001b[2K     \u001b[90m━━━━━━━━━━━━━━━━━━━━━━━━━━━━━━━━━━━━━━━━\u001b[0m \u001b[32m101.7/101.7 kB\u001b[0m \u001b[31m752.8 kB/s\u001b[0m eta \u001b[36m0:00:00\u001b[0m\n",
            "\u001b[?25hRequirement already satisfied: numpy in /usr/local/lib/python3.10/dist-packages (from tensorboardX) (1.23.5)\n",
            "Requirement already satisfied: packaging in /usr/local/lib/python3.10/dist-packages (from tensorboardX) (23.2)\n",
            "Requirement already satisfied: protobuf>=3.20 in /usr/local/lib/python3.10/dist-packages (from tensorboardX) (3.20.3)\n",
            "Installing collected packages: tensorboardX\n",
            "Successfully installed tensorboardX-2.6.2.2\n",
            "Collecting torchmetrics\n",
            "  Downloading torchmetrics-1.3.0-py3-none-any.whl (840 kB)\n",
            "\u001b[2K     \u001b[90m━━━━━━━━━━━━━━━━━━━━━━━━━━━━━━━━━━━━━━━━\u001b[0m \u001b[32m840.2/840.2 kB\u001b[0m \u001b[31m4.8 MB/s\u001b[0m eta \u001b[36m0:00:00\u001b[0m\n",
            "\u001b[?25hRequirement already satisfied: numpy>1.20.0 in /usr/local/lib/python3.10/dist-packages (from torchmetrics) (1.23.5)\n",
            "Requirement already satisfied: packaging>17.1 in /usr/local/lib/python3.10/dist-packages (from torchmetrics) (23.2)\n",
            "Requirement already satisfied: torch>=1.10.0 in /usr/local/lib/python3.10/dist-packages (from torchmetrics) (2.1.0+cu121)\n",
            "Collecting lightning-utilities>=0.8.0 (from torchmetrics)\n",
            "  Downloading lightning_utilities-0.10.0-py3-none-any.whl (24 kB)\n",
            "Requirement already satisfied: setuptools in /usr/local/lib/python3.10/dist-packages (from lightning-utilities>=0.8.0->torchmetrics) (67.7.2)\n",
            "Requirement already satisfied: typing-extensions in /usr/local/lib/python3.10/dist-packages (from lightning-utilities>=0.8.0->torchmetrics) (4.5.0)\n",
            "Requirement already satisfied: filelock in /usr/local/lib/python3.10/dist-packages (from torch>=1.10.0->torchmetrics) (3.13.1)\n",
            "Requirement already satisfied: sympy in /usr/local/lib/python3.10/dist-packages (from torch>=1.10.0->torchmetrics) (1.12)\n",
            "Requirement already satisfied: networkx in /usr/local/lib/python3.10/dist-packages (from torch>=1.10.0->torchmetrics) (3.2.1)\n",
            "Requirement already satisfied: jinja2 in /usr/local/lib/python3.10/dist-packages (from torch>=1.10.0->torchmetrics) (3.1.2)\n",
            "Requirement already satisfied: fsspec in /usr/local/lib/python3.10/dist-packages (from torch>=1.10.0->torchmetrics) (2023.6.0)\n",
            "Requirement already satisfied: triton==2.1.0 in /usr/local/lib/python3.10/dist-packages (from torch>=1.10.0->torchmetrics) (2.1.0)\n",
            "Requirement already satisfied: MarkupSafe>=2.0 in /usr/local/lib/python3.10/dist-packages (from jinja2->torch>=1.10.0->torchmetrics) (2.1.3)\n",
            "Requirement already satisfied: mpmath>=0.19 in /usr/local/lib/python3.10/dist-packages (from sympy->torch>=1.10.0->torchmetrics) (1.3.0)\n",
            "Installing collected packages: lightning-utilities, torchmetrics\n",
            "Successfully installed lightning-utilities-0.10.0 torchmetrics-1.3.0\n"
          ]
        }
      ],
      "source": [
        "# Installing libraries\n",
        "!pip install einops\n",
        "!pip install tensorboardX\n",
        "!pip install torchmetrics"
      ]
    },
    {
      "cell_type": "code",
      "execution_count": 2,
      "metadata": {
        "id": "1Fu7Qpc7nCSO"
      },
      "outputs": [],
      "source": [
        "# Importing libraries\n",
        "import os\n",
        "import torch\n",
        "import torchvision\n",
        "import torchvision.transforms as transforms\n",
        "import torch.nn as nn\n",
        "import torch.optim as optim\n",
        "import torch.nn.functional as F\n",
        "import torch.distributions as D\n",
        "from torchmetrics.classification import MulticlassCalibrationError\n",
        "import matplotlib.pyplot as plt\n",
        "from einops import rearrange\n",
        "from IPython import display\n",
        "import math\n",
        "import numpy as np\n",
        "from tqdm import tqdm, trange\n",
        "from tensorboardX import SummaryWriter\n",
        "writer = SummaryWriter()\n",
        "import time\n",
        "from sys import orig_argv\n",
        "import random"
      ]
    },
    {
      "cell_type": "markdown",
      "metadata": {
        "id": "YSrGy3KknIv9"
      },
      "source": [
        "# Configuration"
      ]
    },
    {
      "cell_type": "code",
      "execution_count": 3,
      "metadata": {
        "colab": {
          "base_uri": "https://localhost:8080/"
        },
        "id": "MdNnwws5nKqr",
        "outputId": "a665d792-f03e-4d9c-ca4c-36ffa1db5fbf"
      },
      "outputs": [
        {
          "output_type": "stream",
          "name": "stdout",
          "text": [
            "Using a GPU\n"
          ]
        }
      ],
      "source": [
        "# Select the device for training (use GPU if you have one)\n",
        "device = torch.device(\"cuda\" if torch.cuda.is_available() else \"cpu\")\n",
        "\n",
        "if torch.cuda.is_available():\n",
        "  print(\"Using a GPU\")\n",
        "else:\n",
        "  print(\"Using a CPU\")"
      ]
    },
    {
      "cell_type": "code",
      "execution_count": 4,
      "metadata": {
        "colab": {
          "base_uri": "https://localhost:8080/"
        },
        "id": "jG3qyq-cnNPg",
        "outputId": "543b768a-1447-4dcb-8190-870c72d12ca6"
      },
      "outputs": [
        {
          "output_type": "stream",
          "name": "stdout",
          "text": [
            "Mounted at /content/drive\n",
            "Current working directory: /content/drive/My Drive/Opinnot/Tutkimusprojekti\n"
          ]
        }
      ],
      "source": [
        "# Changing the working directory\n",
        "from google.colab import drive\n",
        "drive.mount('/content/drive')\n",
        "\n",
        "# Path to the \"Tutkimusprojekti\" folder in the root of Google Drive\n",
        "google_drive_path = '/content/drive/My Drive/Opinnot/Tutkimusprojekti'\n",
        "\n",
        "# Change the current directory to the \"Tutkimusprojekti\" folder\n",
        "os.chdir(google_drive_path)\n",
        "\n",
        "# Check the current working directory to verify the change\n",
        "data_dir = os.getcwd()\n",
        "print(\"Current working directory:\", data_dir)"
      ]
    },
    {
      "cell_type": "markdown",
      "metadata": {
        "id": "j9tv1fhxkiSg"
      },
      "source": [
        "# Data\n"
      ]
    },
    {
      "cell_type": "code",
      "execution_count": 5,
      "metadata": {
        "colab": {
          "base_uri": "https://localhost:8080/"
        },
        "id": "oblTJet9nfQu",
        "outputId": "e8199c9a-714a-466d-c105-c12b9df4947d"
      },
      "outputs": [
        {
          "output_type": "stream",
          "name": "stdout",
          "text": [
            "Files already downloaded and verified\n",
            "Files already downloaded and verified\n"
          ]
        }
      ],
      "source": [
        "# Define batch sizes\n",
        "TRAIN_BATCH_SIZE = 100\n",
        "TEST_BATCH_SIZE = 10\n",
        "\n",
        "# Data transformations\n",
        "transform = transforms.Compose([\n",
        "    transforms.ToTensor(),\n",
        "    transforms.Normalize((0.5, 0.5, 0.5), (0.5, 0.5, 0.5))  # Normalize the pixel values\n",
        "])\n",
        "\n",
        "# Load training dataset\n",
        "train_set = torchvision.datasets.CIFAR10(root=data_dir, train=True, download=True, transform=transform)\n",
        "train_loader = torch.utils.data.DataLoader(train_set, batch_size=TRAIN_BATCH_SIZE, shuffle=True)\n",
        "\n",
        "# Load test dataset\n",
        "test_set = torchvision.datasets.CIFAR10(root=data_dir, train=False, download=True, transform=transform)\n",
        "test_loader = torch.utils.data.DataLoader(test_set, batch_size=TEST_BATCH_SIZE, shuffle=False)"
      ]
    },
    {
      "cell_type": "code",
      "execution_count": 6,
      "metadata": {
        "colab": {
          "base_uri": "https://localhost:8080/",
          "height": 0
        },
        "id": "cgOSimXdnhE4",
        "outputId": "300892e5-5a73-478e-b8f4-5629f96b9bc0"
      },
      "outputs": [
        {
          "output_type": "display_data",
          "data": {
            "text/plain": [
              "<Figure size 800x800 with 8 Axes>"
            ],
            "image/png": "[encoded data removed]"
          },
          "metadata": {}
        }
      ],
      "source": [
        "# Define function for showing images and labels\n",
        "def show_cifar_images(images, labels, class_names, figsize=(8, 8)):\n",
        "    n_col = len(images)\n",
        "    fig, axes = plt.subplots(1, n_col, figsize=figsize)\n",
        "\n",
        "    for i, ax in enumerate(axes.flat):\n",
        "        ax.axis('off')\n",
        "        if i < n_col:\n",
        "            ax.axis('off')\n",
        "            label = labels[i].item()\n",
        "            image = (images[i].permute(1, 2, 0).cpu().numpy() + 1) / 2\n",
        "            ax.imshow(image)\n",
        "            title = f'Label: {label} \\n {class_names[label]}'\n",
        "            ax.set_title(title, pad=20, fontsize=9)\n",
        "\n",
        "    plt.show()\n",
        "\n",
        "# Define a list of class names for CIFAR-10\n",
        "cifar10_class_names = [\"airplane\", \"automobile\", \"bird\", \"cat\", \"deer\",\n",
        "                      \"dog\", \"frog\", \"horse\", \"ship\", \"truck\"]\n",
        "\n",
        "# Displaying CIFAR-10 training images and labels\n",
        "images, labels = next(iter(train_loader))\n",
        "show_cifar_images(images[:8], labels[:8], cifar10_class_names)"
      ]
    },
    {
      "cell_type": "markdown",
      "metadata": {
        "id": "sstgXIxjsb85"
      },
      "source": [
        "# Model: Deterministic Neural Net\n",
        "\n",
        "\n",
        "\n",
        "\n"
      ]
    },
    {
      "cell_type": "markdown",
      "metadata": {
        "id": "nnGMYaMtuPiZ"
      },
      "source": [
        "## Deterministic Net\n",
        "\n",
        "Network architecture from https://arxiv.org/abs/1412.6806"
      ]
    },
    {
      "cell_type": "code",
      "execution_count": 7,
      "metadata": {
        "id": "EeW6e-T0r8Z8"
      },
      "outputs": [],
      "source": [
        "class DeterministicNet(nn.Module):\n",
        "    def __init__(self):\n",
        "        super(DeterministicNet, self).__init__()\n",
        "\n",
        "        # 3x3 conv 1\n",
        "        self.conv1 = nn.Conv2d(3, 96, kernel_size=3, padding=\"same\", bias = False)\n",
        "        self.bn1 = nn.BatchNorm2d(96)\n",
        "\n",
        "        # 3x3 conv 2\n",
        "        self.conv2 = nn.Conv2d(96, 96, kernel_size=3, padding=\"same\", bias = False)\n",
        "        self.bn2 = nn.BatchNorm2d(96)\n",
        "\n",
        "        # 3x3 conv 3\n",
        "        self.conv3 = nn.Conv2d(96, 192, kernel_size=3, padding=\"same\", bias = False)\n",
        "        self.bn3 = nn.BatchNorm2d(192)\n",
        "\n",
        "        # 3x3 conv 4\n",
        "        self.conv4 = nn.Conv2d(192, 192, kernel_size=3, padding=\"same\", bias = False)\n",
        "        self.bn4 = nn.BatchNorm2d(192)\n",
        "\n",
        "        # 3x3 conv 5\n",
        "        self.conv5 = nn.Conv2d(192, 192, kernel_size=3, padding=\"same\", bias = False)\n",
        "        self.bn5 = nn.BatchNorm2d(192)\n",
        "\n",
        "        # 1x1 conv 6\n",
        "        self.conv6 = nn.Conv2d(192, 192, kernel_size=1, padding=\"same\", bias = False)\n",
        "        self.bn6 = nn.BatchNorm2d(192)\n",
        "\n",
        "        # 1x1 conv 7\n",
        "        self.conv7 = nn.Conv2d(192, 10, kernel_size=1, padding=\"same\", bias = False)\n",
        "        self.bn7 = nn.BatchNorm2d(10)\n",
        "\n",
        "    def forward(self, x):\n",
        "\n",
        "        # 3x3 conv 1\n",
        "        x = self.conv1(x)\n",
        "        x = F.relu(self.bn1(x))\n",
        "\n",
        "        # 3x3 conv 2\n",
        "        x = self.conv2(x)\n",
        "        x = F.relu(self.bn2(x))\n",
        "\n",
        "        # 3x3 max-pooling stride 2\n",
        "        x = F.max_pool2d(x, kernel_size=3, stride=2)\n",
        "\n",
        "        # 3x3 conv 3\n",
        "        x = self.conv3(x)\n",
        "        x = F.relu(self.bn3(x))\n",
        "\n",
        "        # 3x3 conv 4\n",
        "        x = self.conv4(x)\n",
        "        x = F.relu(self.bn4(x))\n",
        "\n",
        "        # 3x3 conv 5\n",
        "        x = self.conv5(x)\n",
        "        x = F.relu(self.bn5(x))\n",
        "\n",
        "        # 1x1 conv 6\n",
        "        x = self.conv6(x)\n",
        "        x = F.relu(self.bn6(x))\n",
        "\n",
        "        # 1x1 conv 7\n",
        "        x = self.conv7(x)\n",
        "        x = F.relu(self.bn7(x))\n",
        "\n",
        "        # Average pooling\n",
        "        x = torch.mean(x, dim = (-2,-1))\n",
        "\n",
        "        # 10-way softmax\n",
        "        x = F.log_softmax(x, dim=1)\n",
        "\n",
        "        return x"
      ]
    },
    {
      "cell_type": "markdown",
      "metadata": {
        "id": "o3_0qbO4uhxC"
      },
      "source": [
        "## Training"
      ]
    },
    {
      "cell_type": "code",
      "execution_count": 11,
      "metadata": {
        "id": "puG0FFujtvNp"
      },
      "outputs": [],
      "source": [
        "# Create and train the network\n",
        "def train_deterministic_model():\n",
        "\n",
        "    model = DeterministicNet().to(device)\n",
        "    criterion = nn.NLLLoss()\n",
        "\n",
        "    # Separate weight and bias parameters from others for weight decay\n",
        "    weight_decay_params = []\n",
        "    other_params = []\n",
        "\n",
        "    for name, param in model.named_parameters():\n",
        "        if 'bias' or 'weight' in name:\n",
        "            weight_decay_params.append(param)\n",
        "        else:\n",
        "            other_params.append(param)\n",
        "\n",
        "    optimizer = optim.SGD([\n",
        "        {'params': weight_decay_params, 'weight_decay': 1e-4}, # Apply weight decay to weights\n",
        "        {'params': other_params, 'weight_decay': 0} # Exclude weight decay for batch normalization\n",
        "    ], lr=0.05)\n",
        "\n",
        "    scheduler = optim.lr_scheduler.ExponentialLR(optimizer, gamma=0.95)\n",
        "\n",
        "    train_epochs = 70\n",
        "\n",
        "    for epoch in range(train_epochs):\n",
        "        model.train()\n",
        "        for i, (images, labels) in enumerate(train_loader):\n",
        "          images, labels = images.to(device), labels.to(device)\n",
        "          optimizer.zero_grad()\n",
        "          outputs = model(images)\n",
        "          data_likelihood = criterion(outputs, labels)\n",
        "          loss = data_likelihood\n",
        "          loss.backward()\n",
        "          optimizer.step()\n",
        "        scheduler.step()\n",
        "        print(f'Epoch [{epoch+1}/{train_epochs}], Train loss: {loss.item()}')\n",
        "    return model"
      ]
    },
    {
      "cell_type": "markdown",
      "metadata": {
        "id": "VE8dkvMek-iE"
      },
      "source": [
        "# Evaluation\n",
        "\n",
        "- Accuracy\n",
        "\n",
        "- Negative log likelihood (NLL)\n",
        "\n",
        "- Expected calibration error (ECE)\n"
      ]
    },
    {
      "cell_type": "code",
      "execution_count": 12,
      "metadata": {
        "id": "8FPg-3ttM1j1"
      },
      "outputs": [],
      "source": [
        "def test_deterministic_model():\n",
        "\n",
        "    # Load the trained deterministic model\n",
        "    model = DeterministicNet().to(device)\n",
        "    model.load_state_dict(torch.load('deterministic_model.pth', map_location = device))\n",
        "    model.eval()\n",
        "\n",
        "    test_size = len(test_loader.dataset)\n",
        "    correct_predictions = 0\n",
        "    negative_log_likelihood = 0\n",
        "    expected_calibration_error = 0\n",
        "\n",
        "    with torch.no_grad():\n",
        "\n",
        "        for images, labels in test_loader:\n",
        "            images, labels = images.to(device), labels.to(device)\n",
        "\n",
        "            output = model(images)\n",
        "\n",
        "            probabilities = torch.exp(output)\n",
        "            predictions = output.max(1, keepdim = False)[1] # Index 1 takes the indices of max # index of max log-probability\n",
        "\n",
        "            correct_predictions += predictions.eq(labels.view_as(predictions)).cpu().numpy() # squeeze the tensor, move it to CPU, and convert to a NumPy array\n",
        "            negative_log_likelihood += nn.NLLLoss(reduction = \"sum\")(output, labels)\n",
        "            expected_calibration_error += MulticlassCalibrationError(num_classes = 10, n_bins = 15, norm = \"l1\")(probabilities, labels)\n",
        "\n",
        "    accuracy = correct_predictions.sum()/test_size\n",
        "    nll = negative_log_likelihood.item()/test_size\n",
        "    ece = expected_calibration_error.item()/test_size\n",
        "\n",
        "    print(f\"Accuracy: {accuracy}\")\n",
        "    print(f\"Negative log likelihood: {nll}\")\n",
        "    print(f\"Expected Calibration Error (ECE): {ece}\")\n",
        "\n",
        "    return accuracy, nll, ece"
      ]
    },
    {
      "cell_type": "markdown",
      "source": [
        "# Running Training and Testing with Different Seeds"
      ],
      "metadata": {
        "id": "6dSXSVLyjpXm"
      }
    },
    {
      "cell_type": "code",
      "source": [
        "seeds = [0,1,2]\n",
        "accuracies = []\n",
        "nlls = []\n",
        "eces = []\n",
        "\n",
        "for i, seed in enumerate(seeds):\n",
        "  random.seed(seed)\n",
        "\n",
        "  # Printing training loss for each epoch and training duration\n",
        "  print(f\"----- Seed {i+1} -------\")\n",
        "  start_time = time.time()\n",
        "  print(\"Training started at:\", time.ctime())\n",
        "\n",
        "  model = train_deterministic_model()\n",
        "  end_time = time.time()\n",
        "  print(\"Training ended at:\", time.ctime())\n",
        "  print(\"Training took\", end_time - start_time, \"seconds\")\n",
        "  torch.save(model.state_dict(), 'deterministic_model.pth')\n",
        "\n",
        "  accuracy, nll, ece = test_deterministic_model()\n",
        "  accuracies.append(accuracy)\n",
        "  nlls.append(nll)\n",
        "  eces.append(ece)\n",
        "\n",
        "print(\"----------------\")\n",
        "print(\"Mean accuracy:\", np.mean(accuracies))\n",
        "print(\"Mean nll:\", np.mean(nlls))\n",
        "print(\"Mean ece:\", np.mean(eces))"
      ],
      "metadata": {
        "colab": {
          "base_uri": "https://localhost:8080/"
        },
        "id": "3AEg1DSajXbz",
        "outputId": "08df4325-1bff-4b80-8db9-fd28455d1588"
      },
      "execution_count": 13,
      "outputs": [
        {
          "output_type": "stream",
          "name": "stdout",
          "text": [
            "----- Seed 1 -------\n",
            "Training started at: Sun Jan 14 11:05:16 2024\n",
            "Epoch [1/70], Train loss: 1.3816136121749878\n",
            "Epoch [2/70], Train loss: 1.033793568611145\n",
            "Epoch [3/70], Train loss: 0.7913357615470886\n",
            "Epoch [4/70], Train loss: 0.692950963973999\n",
            "Epoch [5/70], Train loss: 0.648648202419281\n",
            "Epoch [6/70], Train loss: 0.6587892770767212\n",
            "Epoch [7/70], Train loss: 0.5611612200737\n",
            "Epoch [8/70], Train loss: 0.5592714548110962\n",
            "Epoch [9/70], Train loss: 0.4755810499191284\n",
            "Epoch [10/70], Train loss: 0.31210774183273315\n",
            "Epoch [11/70], Train loss: 0.4388936161994934\n",
            "Epoch [12/70], Train loss: 0.4702413082122803\n",
            "Epoch [13/70], Train loss: 0.3686966300010681\n",
            "Epoch [14/70], Train loss: 0.32036811113357544\n",
            "Epoch [15/70], Train loss: 0.29752427339553833\n",
            "Epoch [16/70], Train loss: 0.2041037380695343\n",
            "Epoch [17/70], Train loss: 0.2430827021598816\n",
            "Epoch [18/70], Train loss: 0.22938667237758636\n",
            "Epoch [19/70], Train loss: 0.27672022581100464\n",
            "Epoch [20/70], Train loss: 0.21396420896053314\n",
            "Epoch [21/70], Train loss: 0.11559243500232697\n",
            "Epoch [22/70], Train loss: 0.23065289855003357\n",
            "Epoch [23/70], Train loss: 0.1713985651731491\n",
            "Epoch [24/70], Train loss: 0.1368679255247116\n",
            "Epoch [25/70], Train loss: 0.1415446251630783\n",
            "Epoch [26/70], Train loss: 0.1459161937236786\n",
            "Epoch [27/70], Train loss: 0.16460703313350677\n",
            "Epoch [28/70], Train loss: 0.12510651350021362\n",
            "Epoch [29/70], Train loss: 0.0986531525850296\n",
            "Epoch [30/70], Train loss: 0.099734365940094\n",
            "Epoch [31/70], Train loss: 0.0900210440158844\n",
            "Epoch [32/70], Train loss: 0.0935458168387413\n",
            "Epoch [33/70], Train loss: 0.06385961174964905\n",
            "Epoch [34/70], Train loss: 0.06763488054275513\n",
            "Epoch [35/70], Train loss: 0.07027572393417358\n",
            "Epoch [36/70], Train loss: 0.07364979386329651\n",
            "Epoch [37/70], Train loss: 0.06052025407552719\n",
            "Epoch [38/70], Train loss: 0.07737808674573898\n",
            "Epoch [39/70], Train loss: 0.053769551217556\n",
            "Epoch [40/70], Train loss: 0.055238962173461914\n",
            "Epoch [41/70], Train loss: 0.07877376675605774\n",
            "Epoch [42/70], Train loss: 0.07134848088026047\n",
            "Epoch [43/70], Train loss: 0.03961559385061264\n",
            "Epoch [44/70], Train loss: 0.07948913425207138\n",
            "Epoch [45/70], Train loss: 0.06669533252716064\n",
            "Epoch [46/70], Train loss: 0.060978543013334274\n",
            "Epoch [47/70], Train loss: 0.06085127964615822\n",
            "Epoch [48/70], Train loss: 0.06175725907087326\n",
            "Epoch [49/70], Train loss: 0.05079994350671768\n",
            "Epoch [50/70], Train loss: 0.04916567727923393\n",
            "Epoch [51/70], Train loss: 0.04664852097630501\n",
            "Epoch [52/70], Train loss: 0.04773876070976257\n",
            "Epoch [53/70], Train loss: 0.049883946776390076\n",
            "Epoch [54/70], Train loss: 0.030435137450695038\n",
            "Epoch [55/70], Train loss: 0.041878439486026764\n",
            "Epoch [56/70], Train loss: 0.07681718468666077\n",
            "Epoch [57/70], Train loss: 0.036337703466415405\n",
            "Epoch [58/70], Train loss: 0.052950721234083176\n",
            "Epoch [59/70], Train loss: 0.060951847583055496\n",
            "Epoch [60/70], Train loss: 0.07431299984455109\n",
            "Epoch [61/70], Train loss: 0.06318972259759903\n",
            "Epoch [62/70], Train loss: 0.03333461657166481\n",
            "Epoch [63/70], Train loss: 0.05061551183462143\n",
            "Epoch [64/70], Train loss: 0.04178144410252571\n",
            "Epoch [65/70], Train loss: 0.060666367411613464\n",
            "Epoch [66/70], Train loss: 0.028934335336089134\n",
            "Epoch [67/70], Train loss: 0.04551183804869652\n",
            "Epoch [68/70], Train loss: 0.03209880739450455\n",
            "Epoch [69/70], Train loss: 0.03018740564584732\n",
            "Epoch [70/70], Train loss: 0.040189024060964584\n",
            "Training ended at: Sun Jan 14 11:28:43 2024\n",
            "Training took 1407.0411541461945 seconds\n",
            "Accuracy: 0.8832\n",
            "Negative log likelihood: 0.3556421142578125\n",
            "Expected Calibration Error (ECE): 0.013447676086425782\n",
            "----- Seed 2 -------\n",
            "Training started at: Sun Jan 14 11:28:50 2024\n",
            "Epoch [1/70], Train loss: 1.3595526218414307\n",
            "Epoch [2/70], Train loss: 1.0085513591766357\n",
            "Epoch [3/70], Train loss: 0.7728860378265381\n",
            "Epoch [4/70], Train loss: 0.6977607607841492\n",
            "Epoch [5/70], Train loss: 0.6272258758544922\n",
            "Epoch [6/70], Train loss: 0.5364413857460022\n",
            "Epoch [7/70], Train loss: 0.41460514068603516\n",
            "Epoch [8/70], Train loss: 0.5714629292488098\n",
            "Epoch [9/70], Train loss: 0.4093766510486603\n",
            "Epoch [10/70], Train loss: 0.38765114545822144\n",
            "Epoch [11/70], Train loss: 0.3089810311794281\n",
            "Epoch [12/70], Train loss: 0.37110385298728943\n",
            "Epoch [13/70], Train loss: 0.37961751222610474\n",
            "Epoch [14/70], Train loss: 0.31675001978874207\n",
            "Epoch [15/70], Train loss: 0.19609220325946808\n",
            "Epoch [16/70], Train loss: 0.23695343732833862\n",
            "Epoch [17/70], Train loss: 0.20796610414981842\n",
            "Epoch [18/70], Train loss: 0.27552247047424316\n",
            "Epoch [19/70], Train loss: 0.23298853635787964\n",
            "Epoch [20/70], Train loss: 0.1588107794523239\n",
            "Epoch [21/70], Train loss: 0.1371646374464035\n",
            "Epoch [22/70], Train loss: 0.13117140531539917\n",
            "Epoch [23/70], Train loss: 0.1377669870853424\n",
            "Epoch [24/70], Train loss: 0.17468556761741638\n",
            "Epoch [25/70], Train loss: 0.0860370472073555\n",
            "Epoch [26/70], Train loss: 0.1057601198554039\n",
            "Epoch [27/70], Train loss: 0.12024614959955215\n",
            "Epoch [28/70], Train loss: 0.14214089512825012\n",
            "Epoch [29/70], Train loss: 0.13205303251743317\n",
            "Epoch [30/70], Train loss: 0.091690294444561\n",
            "Epoch [31/70], Train loss: 0.10611766576766968\n",
            "Epoch [32/70], Train loss: 0.09319651871919632\n",
            "Epoch [33/70], Train loss: 0.09145760536193848\n",
            "Epoch [34/70], Train loss: 0.054399121552705765\n",
            "Epoch [35/70], Train loss: 0.0754360780119896\n",
            "Epoch [36/70], Train loss: 0.07254129648208618\n",
            "Epoch [37/70], Train loss: 0.08445810526609421\n",
            "Epoch [38/70], Train loss: 0.04593769460916519\n",
            "Epoch [39/70], Train loss: 0.052269503474235535\n",
            "Epoch [40/70], Train loss: 0.05708916112780571\n",
            "Epoch [41/70], Train loss: 0.04681675508618355\n",
            "Epoch [42/70], Train loss: 0.0651635229587555\n",
            "Epoch [43/70], Train loss: 0.0499909445643425\n",
            "Epoch [44/70], Train loss: 0.047012362629175186\n",
            "Epoch [45/70], Train loss: 0.06888029724359512\n",
            "Epoch [46/70], Train loss: 0.06359957158565521\n",
            "Epoch [47/70], Train loss: 0.054463453590869904\n",
            "Epoch [48/70], Train loss: 0.06136300414800644\n",
            "Epoch [49/70], Train loss: 0.03393472358584404\n",
            "Epoch [50/70], Train loss: 0.03831304609775543\n",
            "Epoch [51/70], Train loss: 0.058659058064222336\n",
            "Epoch [52/70], Train loss: 0.04632227122783661\n",
            "Epoch [53/70], Train loss: 0.04571260139346123\n",
            "Epoch [54/70], Train loss: 0.06042402610182762\n",
            "Epoch [55/70], Train loss: 0.03713119402527809\n",
            "Epoch [56/70], Train loss: 0.04655871540307999\n",
            "Epoch [57/70], Train loss: 0.04406271129846573\n",
            "Epoch [58/70], Train loss: 0.0348479188978672\n",
            "Epoch [59/70], Train loss: 0.047135960310697556\n",
            "Epoch [60/70], Train loss: 0.03592698648571968\n",
            "Epoch [61/70], Train loss: 0.035865429788827896\n",
            "Epoch [62/70], Train loss: 0.03475033864378929\n",
            "Epoch [63/70], Train loss: 0.04624954238533974\n",
            "Epoch [64/70], Train loss: 0.0626290962100029\n",
            "Epoch [65/70], Train loss: 0.03440561890602112\n",
            "Epoch [66/70], Train loss: 0.030723638832569122\n",
            "Epoch [67/70], Train loss: 0.03655727580189705\n",
            "Epoch [68/70], Train loss: 0.04695453122258186\n",
            "Epoch [69/70], Train loss: 0.028329331427812576\n",
            "Epoch [70/70], Train loss: 0.046406932175159454\n",
            "Training ended at: Sun Jan 14 11:52:20 2024\n",
            "Training took 1409.8698463439941 seconds\n",
            "Accuracy: 0.8859\n",
            "Negative log likelihood: 0.353754345703125\n",
            "Expected Calibration Error (ECE): 0.013461146545410156\n",
            "----- Seed 3 -------\n",
            "Training started at: Sun Jan 14 11:52:25 2024\n",
            "Epoch [1/70], Train loss: 1.1144503355026245\n",
            "Epoch [2/70], Train loss: 0.9641242027282715\n",
            "Epoch [3/70], Train loss: 0.856666088104248\n",
            "Epoch [4/70], Train loss: 0.670215904712677\n",
            "Epoch [5/70], Train loss: 0.6898123025894165\n",
            "Epoch [6/70], Train loss: 0.49976322054862976\n",
            "Epoch [7/70], Train loss: 0.524956226348877\n",
            "Epoch [8/70], Train loss: 0.49609383940696716\n",
            "Epoch [9/70], Train loss: 0.4703955352306366\n",
            "Epoch [10/70], Train loss: 0.3686065971851349\n",
            "Epoch [11/70], Train loss: 0.3761983811855316\n",
            "Epoch [12/70], Train loss: 0.3751010596752167\n",
            "Epoch [13/70], Train loss: 0.2781188488006592\n",
            "Epoch [14/70], Train loss: 0.28105640411376953\n",
            "Epoch [15/70], Train loss: 0.22195564210414886\n",
            "Epoch [16/70], Train loss: 0.3261900246143341\n",
            "Epoch [17/70], Train loss: 0.1909988522529602\n",
            "Epoch [18/70], Train loss: 0.209675133228302\n",
            "Epoch [19/70], Train loss: 0.1909087896347046\n",
            "Epoch [20/70], Train loss: 0.1776331514120102\n",
            "Epoch [21/70], Train loss: 0.1310771405696869\n",
            "Epoch [22/70], Train loss: 0.14617608487606049\n",
            "Epoch [23/70], Train loss: 0.16660499572753906\n",
            "Epoch [24/70], Train loss: 0.09964745491743088\n",
            "Epoch [25/70], Train loss: 0.17212620377540588\n",
            "Epoch [26/70], Train loss: 0.19009235501289368\n",
            "Epoch [27/70], Train loss: 0.15959195792675018\n",
            "Epoch [28/70], Train loss: 0.14147910475730896\n",
            "Epoch [29/70], Train loss: 0.0985591784119606\n",
            "Epoch [30/70], Train loss: 0.09646602720022202\n",
            "Epoch [31/70], Train loss: 0.0766885057091713\n",
            "Epoch [32/70], Train loss: 0.08460665494203568\n",
            "Epoch [33/70], Train loss: 0.07021933048963547\n",
            "Epoch [34/70], Train loss: 0.10131201148033142\n",
            "Epoch [35/70], Train loss: 0.06641139090061188\n",
            "Epoch [36/70], Train loss: 0.06441614776849747\n",
            "Epoch [37/70], Train loss: 0.0886770710349083\n",
            "Epoch [38/70], Train loss: 0.07982081919908524\n",
            "Epoch [39/70], Train loss: 0.05739700421690941\n",
            "Epoch [40/70], Train loss: 0.05838952958583832\n",
            "Epoch [41/70], Train loss: 0.06838779151439667\n",
            "Epoch [42/70], Train loss: 0.0758039727807045\n",
            "Epoch [43/70], Train loss: 0.056136321276426315\n",
            "Epoch [44/70], Train loss: 0.05010637640953064\n",
            "Epoch [45/70], Train loss: 0.06401428580284119\n",
            "Epoch [46/70], Train loss: 0.06711927056312561\n",
            "Epoch [47/70], Train loss: 0.04570424184203148\n",
            "Epoch [48/70], Train loss: 0.048742346465587616\n",
            "Epoch [49/70], Train loss: 0.079859159886837\n",
            "Epoch [50/70], Train loss: 0.08451993018388748\n",
            "Epoch [51/70], Train loss: 0.0883525088429451\n",
            "Epoch [52/70], Train loss: 0.06796612590551376\n",
            "Epoch [53/70], Train loss: 0.04589071869850159\n",
            "Epoch [54/70], Train loss: 0.03413398191332817\n",
            "Epoch [55/70], Train loss: 0.032445311546325684\n",
            "Epoch [56/70], Train loss: 0.05338696390390396\n",
            "Epoch [57/70], Train loss: 0.04377026483416557\n",
            "Epoch [58/70], Train loss: 0.0578179694712162\n",
            "Epoch [59/70], Train loss: 0.05179047957062721\n",
            "Epoch [60/70], Train loss: 0.050782036036252975\n",
            "Epoch [61/70], Train loss: 0.05327358841896057\n",
            "Epoch [62/70], Train loss: 0.04891512542963028\n",
            "Epoch [63/70], Train loss: 0.03351355344057083\n",
            "Epoch [64/70], Train loss: 0.052389148622751236\n",
            "Epoch [65/70], Train loss: 0.029649723321199417\n",
            "Epoch [66/70], Train loss: 0.06147720664739609\n",
            "Epoch [67/70], Train loss: 0.033984459936618805\n",
            "Epoch [68/70], Train loss: 0.031293295323848724\n",
            "Epoch [69/70], Train loss: 0.04718602076172829\n",
            "Epoch [70/70], Train loss: 0.0518033504486084\n",
            "Training ended at: Sun Jan 14 12:15:57 2024\n",
            "Training took 1411.545818567276 seconds\n",
            "Accuracy: 0.8889\n",
            "Negative log likelihood: 0.34297265625\n",
            "Expected Calibration Error (ECE): 0.0132913818359375\n",
            "----------------\n",
            "Mean accuracy: 0.886\n",
            "Mean nll: 0.3507897054036458\n",
            "Mean ece: 0.013400068155924478\n"
          ]
        }
      ]
    }
  ],
  "metadata": {
    "accelerator": "GPU",
    "colab": {
      "collapsed_sections": [
        "526gWdXcm6mB",
        "YSrGy3KknIv9",
        "j9tv1fhxkiSg"
      ],
      "provenance": [],
      "gpuType": "T4",
      "authorship_tag": "ABX9TyMVdTUA2Inx/molU9MPCowJ"
    },
    "kernelspec": {
      "display_name": "Python 3",
      "name": "python3"
    },
    "language_info": {
      "name": "python"
    }
  },
  "nbformat": 4,
  "nbformat_minor": 0
}